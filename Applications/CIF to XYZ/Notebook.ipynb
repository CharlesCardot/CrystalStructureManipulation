{
 "cells": [
  {
   "attachments": {},
   "cell_type": "markdown",
   "metadata": {},
   "source": [
    "### Input: CIF\n",
    "- Must specify central atom wyckoff position and radius of cluster\n",
    "\n",
    "### Output: xyz"
   ]
  },
  {
   "cell_type": "code",
   "execution_count": 32,
   "metadata": {},
   "outputs": [],
   "source": [
    "import os\n",
    "from pymatgen.core.structure import Structure\n",
    "from pymatgen.core.structure import Molecule\n",
    "from pymatgen.io.xyz import XYZ\n",
    "import numpy as np\n",
    "\n",
    "center_wk_pos = 0 # Atom to put at center of cluster\n",
    "radius = 3 # Radius of cluster\n",
    "\n",
    "def get_cluster_around_wyckoff_position(structure, wyckoff_number, cluster_radius=2.5):\n",
    "    \"\"\"\n",
    "    Extracts a cluster around a specified Wyckoff position in a crystal structure.\n",
    "\n",
    "    Parameters:\n",
    "    - structure: pymatgen Structure object\n",
    "    - wyckoff_position: str, Wyckoff position to center the cluster around\n",
    "    - cluster_radius: float, radius of the cluster in angstroms\n",
    "\n",
    "    Returns:\n",
    "    - pymatgen Structure object representing the extracted cluster\n",
    "    \"\"\"\n",
    "    structure_analyzer = SpacegroupAnalyzer(structure)\n",
    "    symmetrized_structure = structure_analyzer.get_symmetrized_structure()\n",
    "\n",
    "    wyckoff_cords = symmetrized_structure.sites[wyckoff_number].coords\n",
    "    \n",
    "    # Get the Wyckoff positions that match the specified Wyckoff position\n",
    "    sites = symmetrized_structure.get_sites_in_sphere(symmetrized_structure.cart_coords[wyckoff_number],\n",
    "                                                              cluster_radius)\n",
    "\n",
    "    cluster_structure = Structure.from_sites(sites)\n",
    "\n",
    "    return cluster_structure\n",
    "\n",
    "\n",
    "def create_xyz_from_cif(cif_filename, out_xyz_filename, center_wk_pos, radius):\n",
    "    structure = Structure.from_file(cif_filename)\n",
    "    cluster_structure = get_cluster_around_wyckoff_position(structure, center_wk_pos, radius)\n",
    "    cluster_molecule = Molecule.from_sites(cluster_structure)\n",
    "    XYZ(cluster_molecule).write_file(out_xyz_filename)\n",
    "\n",
    "# Get a list of all files in the current directory\n",
    "file_list = [file for file in os.listdir() if file.endswith(\".cif\")]\n",
    "\n",
    "# Loop through each file in the folder\n",
    "for cif_path in file_list:\n",
    "    \n",
    "    xyz_path = cif_path.replace(\".cif\",\".xyz\")\n",
    "    create_xyz_from_cif(cif_path, xyz_path, center_wk_pos=center_wk_pos, radius=radius)"
   ]
  },
  {
   "cell_type": "code",
   "execution_count": null,
   "metadata": {},
   "outputs": [],
   "source": []
  }
 ],
 "metadata": {
  "kernelspec": {
   "display_name": "Python 3.10.6 ('Science')",
   "language": "python",
   "name": "python3"
  },
  "language_info": {
   "codemirror_mode": {
    "name": "ipython",
    "version": 3
   },
   "file_extension": ".py",
   "mimetype": "text/x-python",
   "name": "python",
   "nbconvert_exporter": "python",
   "pygments_lexer": "ipython3",
   "version": "3.10.6"
  },
  "vscode": {
   "interpreter": {
    "hash": "a94132495860d142598aaea285fc060a9e1832a45151c3a0d158e377765afe23"
   }
  }
 },
 "nbformat": 4,
 "nbformat_minor": 2
}
