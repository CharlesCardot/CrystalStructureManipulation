{
 "cells": [
  {
   "attachments": {},
   "cell_type": "markdown",
   "metadata": {},
   "source": [
    "### Input: XYZ\n",
    "- Must specify the index of the atom to put at the center\n",
    "\n",
    "### Output: xyz"
   ]
  },
  {
   "cell_type": "code",
   "execution_count": 13,
   "metadata": {},
   "outputs": [
    {
     "name": "stdout",
     "output_type": "stream",
     "text": [
      "Molecule centered around atom 998 at [12.15464411 16.84615052 13.37444963]. New XYZ file saved as centered_ice_prd.644.03.f.xyz\n"
     ]
    }
   ],
   "source": [
    "from pymatgen.core.structure import Structure\n",
    "from pymatgen.core.structure import Molecule\n",
    "from pymatgen.io.xyz import XYZ\n",
    "import os\n",
    "\n",
    "center_atom_index = 1001 # row in .xyz file with indeded atom\n",
    "center_atom_index += -3 # index from zero, and first two lines of .xyz aren't atom coords\n",
    "\n",
    "def center_molecule(xyz_file, center_atom_index):\n",
    "    # Read the XYZ file\n",
    "    molecule = Molecule.from_file(file_name)\n",
    "\n",
    "    # Get the coordinates of the specified atom\n",
    "    center_atom_coords = molecule.cart_coords[center_atom_index]\n",
    "\n",
    "    # Calculate the translation vector to center the molecule\n",
    "    translation_vector = -center_atom_coords\n",
    "\n",
    "    # Translate the structure to center it around the specified atom\n",
    "    molecule.translate_sites(range(len(molecule)), translation_vector)\n",
    "\n",
    "    # Write the new XYZ file\n",
    "    new_xyz_file = f\"centered_{xyz_file}\"\n",
    "    XYZ(molecule).write_file(new_xyz_file)\n",
    "\n",
    "    print(f\"Molecule has been centered around atom {center_atom_index} at {center_atom_coords}. New XYZ file saved as {new_xyz_file}\")\n",
    "\n",
    "# Get a list of all files in the current directory\n",
    "file_list = [file for file in os.listdir() if file.endswith(\".xyz\")]\n",
    "\n",
    "# Iterate through each XYZ file and process it\n",
    "for file_name in file_list:\n",
    "    center_molecule(file_name, center_atom_index)"
   ]
  },
  {
   "cell_type": "code",
   "execution_count": null,
   "metadata": {},
   "outputs": [],
   "source": []
  }
 ],
 "metadata": {
  "kernelspec": {
   "display_name": "Python 3.10.6 ('Science')",
   "language": "python",
   "name": "python3"
  },
  "language_info": {
   "codemirror_mode": {
    "name": "ipython",
    "version": 3
   },
   "file_extension": ".py",
   "mimetype": "text/x-python",
   "name": "python",
   "nbconvert_exporter": "python",
   "pygments_lexer": "ipython3",
   "version": "3.10.6"
  },
  "vscode": {
   "interpreter": {
    "hash": "a94132495860d142598aaea285fc060a9e1832a45151c3a0d158e377765afe23"
   }
  }
 },
 "nbformat": 4,
 "nbformat_minor": 2
}
