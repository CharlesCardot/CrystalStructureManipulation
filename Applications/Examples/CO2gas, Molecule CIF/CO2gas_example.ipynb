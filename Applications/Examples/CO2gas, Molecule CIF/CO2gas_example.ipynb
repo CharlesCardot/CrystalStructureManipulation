{
 "cells": [
  {
   "attachments": {},
   "cell_type": "markdown",
   "metadata": {},
   "source": [
    "### Input: XYZ file\n",
    "\n",
    "Grabed CO2 .mol file from https://cccbdb.nist.gov/mdlmol1x.asp (Composite G4 calculation) and converted .mol format to .xyz using OpenBabel\n",
    "\n",
    "### Output: CIF\n",
    "\n",
    "Outputs a CIF version of the .xyz file, with some cell size. This is useful for if you have an electronic structure code that wants to take a CIF as input."
   ]
  },
  {
   "cell_type": "code",
   "execution_count": 2,
   "metadata": {},
   "outputs": [],
   "source": [
    "from pymatgen.core import Molecule"
   ]
  },
  {
   "cell_type": "code",
   "execution_count": 5,
   "metadata": {},
   "outputs": [],
   "source": [
    "file = \"CO2.xyz\"\n",
    "molecule = Molecule.from_file(file) # https://pymatgen.org/pymatgen.core.structure.html\n",
    "a, b, c = 15, 15, 15 # Cell size in Angstroms\n",
    "structure = molecule.get_boxed_structure(a, b, c)\n",
    "structure.to(filename=\"CO2.cif\")"
   ]
  }
 ],
 "metadata": {
  "kernelspec": {
   "display_name": "Python 3.10.6 ('Science')",
   "language": "python",
   "name": "python3"
  },
  "language_info": {
   "codemirror_mode": {
    "name": "ipython",
    "version": 3
   },
   "file_extension": ".py",
   "mimetype": "text/x-python",
   "name": "python",
   "nbconvert_exporter": "python",
   "pygments_lexer": "ipython3",
   "version": "3.10.6 | packaged by conda-forge | (main, Aug 22 2022, 20:29:51) [MSC v.1929 64 bit (AMD64)]"
  },
  "vscode": {
   "interpreter": {
    "hash": "a94132495860d142598aaea285fc060a9e1832a45151c3a0d158e377765afe23"
   }
  }
 },
 "nbformat": 4,
 "nbformat_minor": 2
}
