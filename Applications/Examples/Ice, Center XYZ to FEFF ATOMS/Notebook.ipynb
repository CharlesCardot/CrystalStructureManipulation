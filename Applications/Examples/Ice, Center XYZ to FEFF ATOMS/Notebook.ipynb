{
 "cells": [
  {
   "attachments": {},
   "cell_type": "markdown",
   "metadata": {},
   "source": [
    "### Input: XYZ\n",
    "- .xyz file must have absorber placed at center position, (0,0,0)\n",
    "\n",
    "### Output: xyz"
   ]
  },
  {
   "cell_type": "code",
   "execution_count": 44,
   "metadata": {},
   "outputs": [
    {
     "name": "stdout",
     "output_type": "stream",
     "text": [
      "Sorted XYZ file with reordered columns and updated atom index written to: centered_ice_prd.644.03.f.txt\n"
     ]
    }
   ],
   "source": [
    "import numpy as np\n",
    "import os\n",
    "\n",
    "def read_xyz_file(file_path):\n",
    "    with open(file_path, 'r') as file:\n",
    "        lines = file.readlines()\n",
    "        num_atoms = int(lines[0].strip())\n",
    "        atoms = []\n",
    "        atom_types = {}\n",
    "        for i, line in enumerate(lines[2:]):\n",
    "            parts = line.split()\n",
    "            atom = parts[0]\n",
    "            coordinates = list(map(float, parts[1:4]))\n",
    "\n",
    "            if atom not in atom_types:\n",
    "                atom_types[atom] = len(atom_types) + 1  # Assign a unique type for each species\n",
    "\n",
    "            if all([cord == 0 for cord in coordinates]):\n",
    "                atom_type = 0 # Type 0 for the center atom\n",
    "            else: \n",
    "                atom_type = atom_types[atom] \n",
    "            atoms.append((atom, coordinates, atom_type))\n",
    "\n",
    "    return num_atoms, atoms\n",
    "\n",
    "def distance(atom1, atom2):\n",
    "    return np.linalg.norm(np.array(atom1) - np.array(atom2))\n",
    "\n",
    "def sort_atoms_by_distance(atoms, reference_atom):\n",
    "    atoms.sort(key=lambda atom: distance(atom[1], reference_atom))\n",
    "    return atoms\n",
    "\n",
    "def add_distance_column(atoms, reference_atom):\n",
    "    for i, atom in enumerate(atoms):\n",
    "        dist = distance(atom[1], reference_atom)\n",
    "        atoms[i] = atom + (dist,)\n",
    "    return atoms\n",
    "\n",
    "def assign_atom_index(atoms):\n",
    "    #atoms.sort(key=lambda atom: atom[-1])  # Sort by distance\n",
    "    for i, atom in enumerate(atoms):\n",
    "        #print(atom)\n",
    "        atoms[i] = atom + (i + 1,)  # Assign atom index starting from 1\n",
    "    return atoms\n",
    "\n",
    "def write_sorted_xyz_file(sorted_atoms, output_path):\n",
    "    with open(output_path, 'w') as file:\n",
    "        for atom in sorted_atoms:\n",
    "            row = [atom[1][0], atom[1][1], atom[1][2], atom[2], atom[3], atom[4]]\n",
    "            for num in row:\n",
    "                formatted_num = \"{:<{width}}\".format(round(num,6), width=12)\n",
    "                file.write(formatted_num)\n",
    "            file.write('\\n')\n",
    "\n",
    "# Get a list of all files in the current directory\n",
    "file_list = [file for file in os.listdir() if file.endswith(\".xyz\")]\n",
    "\n",
    "# Iterate through each XYZ file and process it\n",
    "for file_name in file_list:\n",
    "    input_file_path = file_name\n",
    "    output_file_path = file_name.replace(\".xyz\", \".txt\")\n",
    "\n",
    "    num_atoms, atoms = read_xyz_file(input_file_path)\n",
    "\n",
    "    # Assuming the reference atom is at (0, 0, 0)\n",
    "    reference_atom = (0.0, 0.0, 0.0)\n",
    "\n",
    "    # Sort atoms by distance to the reference atom\n",
    "    sorted_atoms = sort_atoms_by_distance(atoms, reference_atom)\n",
    "\n",
    "    # Add a new column for distance\n",
    "    atoms_with_distance = add_distance_column(sorted_atoms, reference_atom)\n",
    "\n",
    "    # Assign atom index based on distance order\n",
    "    atoms_with_index = assign_atom_index(atoms_with_distance)\n",
    "\n",
    "    # Write the sorted XYZ file with reordered columns and updated atom index\n",
    "    write_sorted_xyz_file(atoms_with_index, output_file_path)\n",
    "\n",
    "    print(f\"Sorted XYZ file with reordered columns and updated atom index written to: {output_file_path}\")"
   ]
  },
  {
   "cell_type": "code",
   "execution_count": null,
   "metadata": {},
   "outputs": [],
   "source": []
  }
 ],
 "metadata": {
  "kernelspec": {
   "display_name": "Python 3.10.6 ('Science')",
   "language": "python",
   "name": "python3"
  },
  "language_info": {
   "codemirror_mode": {
    "name": "ipython",
    "version": 3
   },
   "file_extension": ".py",
   "mimetype": "text/x-python",
   "name": "python",
   "nbconvert_exporter": "python",
   "pygments_lexer": "ipython3",
   "version": "3.10.6"
  },
  "vscode": {
   "interpreter": {
    "hash": "a94132495860d142598aaea285fc060a9e1832a45151c3a0d158e377765afe23"
   }
  }
 },
 "nbformat": 4,
 "nbformat_minor": 2
}
