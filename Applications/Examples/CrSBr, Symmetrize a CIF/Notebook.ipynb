{
 "cells": [
  {
   "cell_type": "code",
   "execution_count": 3,
   "metadata": {},
   "outputs": [],
   "source": [
    "from pymatgen.core.structure import Structure\n",
    "from pymatgen.io.cif import CifWriter"
   ]
  },
  {
   "cell_type": "code",
   "execution_count": 7,
   "metadata": {},
   "outputs": [
    {
     "name": "stdout",
     "output_type": "stream",
     "text": [
      "Full Formula (Cr16 S24 Br16)\n",
      "Reduced Formula: Cr2S3Br2\n",
      "abc   :   7.014400   9.498400  15.872400\n",
      "angles:  90.000000  90.000000  90.000000\n",
      "pbc   :       True       True       True\n",
      "Sites (56)\n",
      "  #  SP        a      b        c\n",
      "---  ----  -----  -----  -------\n",
      "  0  Cr    0.125  0.375  0.43745\n",
      "  1  Cr    0.625  0.875  0.43745\n",
      "  2  Cr    0.625  0.375  0.43745\n",
      "  3  Cr    0.125  0.875  0.93745\n",
      "  4  Cr    0.125  0.375  0.93745\n",
      "  5  Cr    0.625  0.875  0.93745\n",
      "  6  Cr    0.625  0.375  0.93745\n",
      "  7  Cr    0.125  0.875  0.43745\n",
      "  8  Cr    0.375  0.125  0.18745\n",
      "  9  Cr    0.875  0.625  0.18745\n",
      " 10  Cr    0.875  0.125  0.18745\n",
      " 11  Cr    0.375  0.625  0.68745\n",
      " 12  Cr    0.375  0.125  0.68745\n",
      " 13  Cr    0.875  0.625  0.68745\n",
      " 14  Cr    0.875  0.125  0.68745\n",
      " 15  Cr    0.375  0.625  0.18745\n",
      " 16  S     0.125  0.125  0.2882\n",
      " 17  S     0.625  0.625  0.2882\n",
      " 18  S     0.625  0.125  0.2882\n",
      " 19  S     0.125  0.625  0.7882\n",
      " 20  S     0.125  0.125  0.7882\n",
      " 21  S     0.625  0.625  0.7882\n",
      " 22  S     0.625  0.125  0.7882\n",
      " 23  S     0.125  0.625  0.2882\n",
      " 24  S     0.375  0.375  0.2118\n",
      " 25  S     0.875  0.875  0.2118\n",
      " 26  S     0.875  0.375  0.2118\n",
      " 27  S     0.375  0.875  0.7118\n",
      " 28  S     0.375  0.375  0.7118\n",
      " 29  S     0.875  0.875  0.7118\n",
      " 30  S     0.875  0.375  0.7118\n",
      " 31  S     0.375  0.875  0.2118\n",
      " 32  S     0.125  0.125  0.4618\n",
      " 33  S     0.625  0.625  0.4618\n",
      " 34  S     0.625  0.125  0.4618\n",
      " 35  S     0.125  0.625  0.9618\n",
      " 36  S     0.125  0.125  0.9618\n",
      " 37  S     0.625  0.625  0.9618\n",
      " 38  S     0.625  0.125  0.9618\n",
      " 39  S     0.125  0.625  0.4618\n",
      " 40  Br    0.375  0.375  0.32445\n",
      " 41  Br    0.875  0.875  0.32445\n",
      " 42  Br    0.875  0.375  0.32445\n",
      " 43  Br    0.375  0.875  0.82445\n",
      " 44  Br    0.375  0.375  0.82445\n",
      " 45  Br    0.875  0.875  0.82445\n",
      " 46  Br    0.875  0.375  0.82445\n",
      " 47  Br    0.375  0.875  0.32445\n",
      " 48  Br    0.125  0.125  0.07445\n",
      " 49  Br    0.625  0.625  0.07445\n",
      " 50  Br    0.625  0.125  0.07445\n",
      " 51  Br    0.125  0.625  0.57445\n",
      " 52  Br    0.125  0.125  0.57445\n",
      " 53  Br    0.625  0.625  0.57445\n",
      " 54  Br    0.625  0.125  0.57445\n",
      " 55  Br    0.125  0.625  0.07445\n"
     ]
    }
   ],
   "source": [
    "cif_filename = 'CrSBr_P1_unitcell.cif'\n",
    "structure = Structure.from_file(cif_filename)\n",
    "print(structure)\n",
    "\n",
    "sym_cif = CifWriter(structure, symprec=0.1)\n",
    "cif_filename = cif_filename.replace(\".cif\", \"_sym.cif\")\n",
    "sym_cif.write_file(cif_filename)"
   ]
  },
  {
   "cell_type": "code",
   "execution_count": null,
   "metadata": {},
   "outputs": [],
   "source": []
  }
 ],
 "metadata": {
  "kernelspec": {
   "display_name": "Science",
   "language": "python",
   "name": "python3"
  },
  "language_info": {
   "codemirror_mode": {
    "name": "ipython",
    "version": 3
   },
   "file_extension": ".py",
   "mimetype": "text/x-python",
   "name": "python",
   "nbconvert_exporter": "python",
   "pygments_lexer": "ipython3",
   "version": "3.10.6"
  },
  "orig_nbformat": 4
 },
 "nbformat": 4,
 "nbformat_minor": 2
}
