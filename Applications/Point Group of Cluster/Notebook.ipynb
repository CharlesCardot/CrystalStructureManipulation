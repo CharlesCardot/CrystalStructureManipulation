{
 "cells": [
  {
   "cell_type": "code",
   "execution_count": 13,
   "metadata": {},
   "outputs": [],
   "source": [
    "from pymatgen.symmetry.analyzer import SpacegroupAnalyzer\n",
    "from pymatgen.core.structure import Structure\n",
    "from pymatgen.core.structure import Molecule\n",
    "from pymatgen.analysis.local_env import CrystalNN\n",
    "from pymatgen.symmetry.analyzer import PointGroupAnalyzer"
   ]
  },
  {
   "cell_type": "code",
   "execution_count": 14,
   "metadata": {},
   "outputs": [],
   "source": [
    "def get_cluster_around_index(structure, index_number, cluster_radius=3):\n",
    "    \"\"\"\n",
    "    Extracts a cluster around a specified index position in a crystal structure.\n",
    "\n",
    "    Parameters:\n",
    "    - structure: pymatgen Structure object\n",
    "    - index_position: str, index position to center the cluster around\n",
    "    - cluster_radius: float, radius of the cluster in angstroms\n",
    "\n",
    "    Returns:\n",
    "    - pymatgen Structure object representing the extracted cluster\n",
    "    \"\"\"\n",
    "    structure_analyzer = SpacegroupAnalyzer(structure)\n",
    "    space_group = structure_analyzer.get_space_group_number()\n",
    "    print(\"Crystal Space Group:\", space_group)\n",
    "    symmetrized_structure = structure_analyzer.get_symmetrized_structure()\n",
    "\n",
    "    index_cords = symmetrized_structure.sites[index_number].coords\n",
    "    \n",
    "    # Get the index positions that match the specified index position\n",
    "    sites = symmetrized_structure.get_sites_in_sphere(symmetrized_structure.cart_coords[index_number],\n",
    "                                                              cluster_radius)\n",
    "\n",
    "    cluster_structure = Structure.from_sites(sites)\n",
    "\n",
    "    return cluster_structure"
   ]
  },
  {
   "cell_type": "code",
   "execution_count": null,
   "metadata": {},
   "outputs": [],
   "source": [
    "# You don't have to use a cif, \n",
    "# you could also load a molecule from a .xyz file using Molecule.from_file(xyz_filename)\n",
    "cif_filename = ''\n",
    "structure = Structure.from_file(cif_filename)\n",
    "print(structure)\n",
    "\n",
    "center_atom_index = 0\n",
    "cluster_structure = get_cluster_around_index(structure, center_atom_index)\n",
    "print(cluster_structure)\n",
    "\n",
    "molecule = Molecule.from_sites(cluster_structure.sites)\n",
    "symmetry_analyzer = PointGroupAnalyzer(molecule)\n",
    "point_group = symmetry_analyzer.get_pointgroup()\n",
    "\n",
    "print(point_group)"
   ]
  },
  {
   "cell_type": "code",
   "execution_count": null,
   "metadata": {},
   "outputs": [],
   "source": []
  }
 ],
 "metadata": {
  "kernelspec": {
   "display_name": "Science",
   "language": "python",
   "name": "python3"
  },
  "language_info": {
   "codemirror_mode": {
    "name": "ipython",
    "version": 3
   },
   "file_extension": ".py",
   "mimetype": "text/x-python",
   "name": "python",
   "nbconvert_exporter": "python",
   "pygments_lexer": "ipython3",
   "version": "3.10.6"
  },
  "orig_nbformat": 4
 },
 "nbformat": 4,
 "nbformat_minor": 2
}
