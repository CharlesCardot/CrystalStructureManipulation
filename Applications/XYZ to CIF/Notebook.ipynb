{
 "cells": [
  {
   "attachments": {},
   "cell_type": "markdown",
   "metadata": {},
   "source": [
    "### Input: XYZ file\n",
    "\n",
    "Can grab .mol file from https://cccbdb.nist.gov/ (Composite G4 calculation) and converted .mol format to .xyz using OpenBabel\n",
    "\n",
    "### Output: CIF\n",
    "\n",
    "Outputs a CIF version of the .xyz file, with some cell size."
   ]
  },
  {
   "cell_type": "code",
   "execution_count": 5,
   "metadata": {},
   "outputs": [
    {
     "name": "stdout",
     "output_type": "stream",
     "text": [
      "['CO2.xyz', 'ice_prd.644.03.f.xyz']\n",
      "Conversion successful: CO2.xyz -> CO2.cif\n",
      "Trying Doubling box size for ice_prd.644.03.f.xyz, new size: 15, 15, 15\n",
      "Trying Doubling box size for ice_prd.644.03.f.xyz, new size: 30, 30, 30\n",
      "Conversion successful: ice_prd.644.03.f.xyz -> ice_prd.644.03.f.cif\n"
     ]
    }
   ],
   "source": [
    "import os\n",
    "from pymatgen.core import Molecule\n",
    "\n",
    "def create_boxed_structure(molecule, a, b, c):\n",
    "    try:\n",
    "        # Attempt to create a boxed structure\n",
    "        structure = molecule.get_boxed_structure(a, b, c)\n",
    "        return structure, True\n",
    "    except ValueError as e:\n",
    "        if str(e) == \"Box is not big enough to contain Molecule.\":\n",
    "            # If the error is due to box size, double the dimensions and try again\n",
    "            return None, False\n",
    "        else:\n",
    "            # If it's a different error, re-raise the exception\n",
    "            raise e\n",
    "\n",
    "# Get a list of all files in the current directory\n",
    "file_list = [file for file in os.listdir() if file.endswith(\".xyz\")]\n",
    "\n",
    "# Iterate through each XYZ file and process it\n",
    "for file_name in file_list:\n",
    "\n",
    "    # Define initial cell dimensions in Angstroms\n",
    "    a, b, c = 15, 15, 15\n",
    "    \n",
    "    for _ in range(10):  # Try doubling the box size up to 10 times\n",
    "        try:\n",
    "            # Read molecule from the XYZ file\n",
    "            molecule = Molecule.from_file(file_name)\n",
    "            \n",
    "            # Attempt to create a boxed structure with current dimensions\n",
    "            structure, success = create_boxed_structure(molecule, a, b, c)\n",
    "            \n",
    "            if success:\n",
    "                # Construct the output CIF filename (same name as XYZ file but with .cif extension)\n",
    "                output_file = os.path.splitext(file_name)[0] + \".cif\"\n",
    "                \n",
    "                # Save the structure to the CIF file\n",
    "                structure.to(filename=output_file)\n",
    "                \n",
    "                print(f\"Conversion successful: {file_name} -> {output_file}\")\n",
    "                break  # Exit the loop if successful\n",
    "            else:\n",
    "                print(f\"Trying Doubling box size for {file_name}, new size: {a}, {b}, {c}\")\n",
    "                # Double the box size for the next attempt\n",
    "                a *= 2\n",
    "                b *= 2\n",
    "                c *= 2\n",
    "                \n",
    "        except Exception as e:\n",
    "            print(f\"Error processing {file}: {e}\")"
   ]
  }
 ],
 "metadata": {
  "kernelspec": {
   "display_name": "Python 3.10.6 ('Science')",
   "language": "python",
   "name": "python3"
  },
  "language_info": {
   "codemirror_mode": {
    "name": "ipython",
    "version": 3
   },
   "file_extension": ".py",
   "mimetype": "text/x-python",
   "name": "python",
   "nbconvert_exporter": "python",
   "pygments_lexer": "ipython3",
   "version": "3.10.6"
  },
  "vscode": {
   "interpreter": {
    "hash": "a94132495860d142598aaea285fc060a9e1832a45151c3a0d158e377765afe23"
   }
  }
 },
 "nbformat": 4,
 "nbformat_minor": 2
}
