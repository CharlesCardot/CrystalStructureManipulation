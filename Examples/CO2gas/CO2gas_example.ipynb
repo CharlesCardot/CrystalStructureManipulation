{
 "cells": [
  {
   "cell_type": "markdown",
   "metadata": {},
   "source": [
    "### Input: CIF, size of super cell, type of impurity, position of impurity (\"center\", \"corner\", or abc coordinates)"
   ]
  },
  {
   "cell_type": "code",
   "execution_count": 15,
   "metadata": {},
   "outputs": [],
   "source": [
    "from pymatgen.core import Structure\n",
    "\n",
    "import sys, os\n",
    "code_dir = os.path.abspath(os.path.join(os.getcwd(), '../../Code/'))\n",
    "sys.path.append(code_dir)\n",
    "import utils as ut\n",
    "\n",
    "from importlib import reload"
   ]
  },
  {
   "cell_type": "code",
   "execution_count": 2,
   "metadata": {},
   "outputs": [],
   "source": [
    "## Goal, make a cif for a molecule\n",
    "# This example is unfinished "
   ]
  },
  {
   "cell_type": "code",
   "execution_count": 3,
   "metadata": {},
   "outputs": [],
   "source": [
    "cif = \"CO2.cif\"\n",
    "# supercell = [4,4,4] # 4x4x4\n",
    "supercell = [2,2,2] # 2x2x2\n",
    "impurity_elm = \"C\"\n",
    "impurity_coords = \"corner\""
   ]
  },
  {
   "cell_type": "code",
   "execution_count": 16,
   "metadata": {},
   "outputs": [],
   "source": [
    "reload(ut)\n",
    "structure = Structure.from_file(cif)\n",
    "structure.make_supercell(supercell)\n",
    "ut.make_impurity_cif(cif,structure,impurity_elm,impurity_coords)"
   ]
  },
  {
   "cell_type": "code",
   "execution_count": null,
   "metadata": {},
   "outputs": [],
   "source": []
  }
 ],
 "metadata": {
  "kernelspec": {
   "display_name": "Python 3.10.6 ('Science')",
   "language": "python",
   "name": "python3"
  },
  "language_info": {
   "codemirror_mode": {
    "name": "ipython",
    "version": 3
   },
   "file_extension": ".py",
   "mimetype": "text/x-python",
   "name": "python",
   "nbconvert_exporter": "python",
   "pygments_lexer": "ipython3",
   "version": "3.10.6"
  },
  "vscode": {
   "interpreter": {
    "hash": "a94132495860d142598aaea285fc060a9e1832a45151c3a0d158e377765afe23"
   }
  }
 },
 "nbformat": 4,
 "nbformat_minor": 2
}
