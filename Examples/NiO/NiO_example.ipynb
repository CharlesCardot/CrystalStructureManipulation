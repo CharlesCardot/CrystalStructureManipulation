{
 "cells": [
  {
   "cell_type": "markdown",
   "metadata": {},
   "source": [
    "### Input: CIF, size of super cell, type of impurity, position of impurity (\"center\", \"corner\", or abc coordinates)"
   ]
  },
  {
   "cell_type": "code",
   "execution_count": 12,
   "metadata": {},
   "outputs": [],
   "source": [
    "cif = \"NiO_sym.cif\"\n",
    "supercell = [2,2,2] # 2x2x2\n",
    "impurity_elm = \"H\"\n",
    "impurity_coords = \"center\""
   ]
  },
  {
   "cell_type": "code",
   "execution_count": 13,
   "metadata": {},
   "outputs": [],
   "source": [
    "from pymatgen.core import Structure\n",
    "import ultraimport\n",
    "ut = ultraimport('../../utils.py')\n",
    "\n",
    "structure = Structure.from_file(cif)\n",
    "structure.make_supercell(supercell)\n",
    "ut.make_impurity_cif(cif,structure,impurity_elm,impurity_coords)"
   ]
  },
  {
   "cell_type": "code",
   "execution_count": null,
   "metadata": {},
   "outputs": [],
   "source": []
  }
 ],
 "metadata": {
  "kernelspec": {
   "display_name": "Python 3.10.6 ('Science')",
   "language": "python",
   "name": "python3"
  },
  "language_info": {
   "codemirror_mode": {
    "name": "ipython",
    "version": 3
   },
   "file_extension": ".py",
   "mimetype": "text/x-python",
   "name": "python",
   "nbconvert_exporter": "python",
   "pygments_lexer": "ipython3",
   "version": "3.10.6"
  },
  "vscode": {
   "interpreter": {
    "hash": "a94132495860d142598aaea285fc060a9e1832a45151c3a0d158e377765afe23"
   }
  }
 },
 "nbformat": 4,
 "nbformat_minor": 2
}
