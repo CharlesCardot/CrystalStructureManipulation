{
 "cells": [
  {
   "attachments": {},
   "cell_type": "markdown",
   "metadata": {},
   "source": [
    "### Input: CIF, central atom wyckoff position, target radius of cluster\n",
    "\n",
    "### Output: xyz"
   ]
  },
  {
   "cell_type": "code",
   "execution_count": 52,
   "metadata": {},
   "outputs": [],
   "source": [
    "from pymatgen.core.structure import Structure\n",
    "from pymatgen.core.structure import Molecule\n",
    "from pymatgen.io.xyz import XYZ\n",
    "\n",
    "import numpy as np\n",
    "\n",
    "cif = \"NiO.cif\"\n",
    "out_xyz_filename = \"NiO.xyz\"\n",
    "center_wk_pos = 0\n",
    "radius = 5 # Units of the cif \n",
    "\n",
    "structure = Structure.from_file(cif)\n",
    "structure.make_supercell([10,10,10]) # May need to be bigger\n",
    "                                     # for a large radius\n",
    "\n",
    "# Choose the site you want to use as the center of your cluster\n",
    "center_site = structure.sites[center_wk_pos]\n",
    "\n",
    "def distance(site1, site2):\n",
    "    return np.linalg.norm(site2.coords - site1.coords)\n",
    "\n",
    "# Get the nearest neighbors of the center site\n",
    "cluster_sites = [center_site]\n",
    "for site in structure.sites:\n",
    "    if site != center_site and distance(center_site, site) <= radius:\n",
    "        cluster_sites.append(site)\n",
    "\n",
    "cluster_structure = Structure.from_sites(cluster_sites)\n",
    "cluster_molecule = Molecule.from_sites(cluster_structure)\n",
    "\n",
    "XYZ(cluster_molecule).write_file(out_xyz_filename)"
   ]
  }
 ],
 "metadata": {
  "kernelspec": {
   "display_name": "Python 3.10.6 ('Science')",
   "language": "python",
   "name": "python3"
  },
  "language_info": {
   "codemirror_mode": {
    "name": "ipython",
    "version": 3
   },
   "file_extension": ".py",
   "mimetype": "text/x-python",
   "name": "python",
   "nbconvert_exporter": "python",
   "pygments_lexer": "ipython3",
   "version": "3.10.6"
  },
  "vscode": {
   "interpreter": {
    "hash": "a94132495860d142598aaea285fc060a9e1832a45151c3a0d158e377765afe23"
   }
  }
 },
 "nbformat": 4,
 "nbformat_minor": 2
}
