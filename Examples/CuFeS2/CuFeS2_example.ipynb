{
 "cells": [
  {
   "attachments": {},
   "cell_type": "markdown",
   "metadata": {},
   "source": [
    "### Input: CIF File\n",
    "\n",
    "Goal is to find angles between Cu and S bonds, as well as Fe and S bonds.\n",
    "This doesn't actually create a custom cif, but I have no where else to put this"
   ]
  },
  {
   "cell_type": "code",
   "execution_count": 6,
   "metadata": {},
   "outputs": [],
   "source": [
    "from pymatgen.analysis.local_env import CrystalNN\n",
    "from pymatgen.core import Structure\n",
    "\n",
    "import numpy as np"
   ]
  },
  {
   "cell_type": "code",
   "execution_count": 7,
   "metadata": {},
   "outputs": [
    {
     "name": "stdout",
     "output_type": "stream",
     "text": [
      "Full Formula (Fe4 Cu4 S8)\n",
      "Reduced Formula: FeCuS2\n",
      "abc   :   5.289000   5.289000  10.423000\n",
      "angles:  90.000000  90.000000  90.000000\n",
      "pbc   :       True       True       True\n",
      "Sites (16)\n",
      "  #  SP         a       b      c\n",
      "---  ----  ------  ------  -----\n",
      "  0  Fe    0       0       0.5\n",
      "  1  Fe    0.5     0.5     0\n",
      "  2  Fe    0.5     0       0.25\n",
      "  3  Fe    0       0.5     0.75\n",
      "  4  Cu    0       0       0\n",
      "  5  Cu    0.5     0.5     0.5\n",
      "  6  Cu    0.5     0       0.75\n",
      "  7  Cu    0       0.5     0.25\n",
      "  8  S     0.2574  0.25    0.125\n",
      "  9  S     0.7574  0.75    0.625\n",
      " 10  S     0.25    0.7426  0.875\n",
      " 11  S     0.75    0.2426  0.375\n",
      " 12  S     0.7426  0.75    0.125\n",
      " 13  S     0.2426  0.25    0.625\n",
      " 14  S     0.75    0.2574  0.875\n",
      " 15  S     0.25    0.7574  0.375\n"
     ]
    }
   ],
   "source": [
    "cif = \"CuFeS2.cif\"\n",
    "\n",
    "# load structure file\n",
    "structure = Structure.from_file(cif)\n",
    "print(structure)"
   ]
  },
  {
   "cell_type": "code",
   "execution_count": 38,
   "metadata": {},
   "outputs": [
    {
     "name": "stdout",
     "output_type": "stream",
     "text": [
      "Neighbors of atom at site 0, Fe\n",
      "[PeriodicSite: S (-1.2831, -1.3222, 6.5144) [-0.2426, -0.2500, 0.6250], PeriodicSite: S (-1.3222, 1.2831, 3.9086) [-0.2500, 0.2426, 0.3750], PeriodicSite: S (1.2831, 1.3222, 6.5144) [0.2426, 0.2500, 0.6250], PeriodicSite: S (1.3222, -1.2831, 3.9086) [0.2500, -0.2426, 0.3750]] \n",
      "\n",
      "Bond Lengths: Total Count\n",
      "109.469259: 2\n",
      "109.472202: 4\n"
     ]
    }
   ],
   "source": [
    "# Create a CrystalNN object for finding neighbors\n",
    "nn = CrystalNN(distance_cutoffs = None)\n",
    "\n",
    "# Initialize an empty list to store bond lengths\n",
    "bond_lengths = []\n",
    "\n",
    "# Fe atom\n",
    "site_index = 0\n",
    "\n",
    "neighbors = nn.get_nn(structure, site_index)\n",
    "print(f\"Neighbors of atom at site {site_index}, {structure.species[site_index]}\")\n",
    "print(neighbors, \"\\n\")\n",
    "\n",
    "c_atom = structure[site_index] # Central atom\n",
    "\n",
    "unique_comparisons = []\n",
    "for atom1 in neighbors:\n",
    "    for atom2 in neighbors:\n",
    "        if (atom1, atom2) in unique_comparisons or (atom2, atom1) in unique_comparisons:\n",
    "            pass\n",
    "        elif not (atom1 == atom2):\n",
    "            v1 = (c_atom.coords-atom1.coords)/np.linalg.norm(c_atom.coords-atom1.coords)\n",
    "            v2 = (c_atom.coords-atom2.coords)/np.linalg.norm(c_atom.coords-atom2.coords)\n",
    "            angle = np.arccos(np.dot(v1, v2))/np.pi*180.0\n",
    "            bond_lengths.append(np.round(angle,6))\n",
    "            unique_comparisons.append((atom1, atom2))\n",
    "\n",
    "print(\"Bond Lengths:\", \"Total Count\")\n",
    "unique_lengths = set(bond_lengths)\n",
    "for length in unique_lengths:\n",
    "    count = bond_lengths.count(length)\n",
    "    print(f\"{length}: {count}\")"
   ]
  },
  {
   "cell_type": "code",
   "execution_count": null,
   "metadata": {},
   "outputs": [],
   "source": []
  }
 ],
 "metadata": {
  "kernelspec": {
   "display_name": "Python 3.10.6 ('Science')",
   "language": "python",
   "name": "python3"
  },
  "language_info": {
   "codemirror_mode": {
    "name": "ipython",
    "version": 3
   },
   "file_extension": ".py",
   "mimetype": "text/x-python",
   "name": "python",
   "nbconvert_exporter": "python",
   "pygments_lexer": "ipython3",
   "version": "3.10.6"
  },
  "vscode": {
   "interpreter": {
    "hash": "a94132495860d142598aaea285fc060a9e1832a45151c3a0d158e377765afe23"
   }
  }
 },
 "nbformat": 4,
 "nbformat_minor": 2
}
