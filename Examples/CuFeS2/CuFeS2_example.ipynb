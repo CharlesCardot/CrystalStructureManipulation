{
 "cells": [
  {
   "attachments": {},
   "cell_type": "markdown",
   "metadata": {},
   "source": [
    "### Input: CIF File\n",
    "\n",
    "Goal is to find angles between Cu and S bonds, as well as Fe and S bonds\n",
    "\n",
    "#### Update, this is not currently working, and should also probably be renamed"
   ]
  },
  {
   "cell_type": "code",
   "execution_count": 48,
   "metadata": {},
   "outputs": [],
   "source": [
    "from pymatgen.core import Molecule\n",
    "from pymatgen.core import Structure\n",
    "\n",
    "from pymatgen.analysis.local_env import VoronoiNN\n",
    "import numpy as np\n"
   ]
  },
  {
   "cell_type": "code",
   "execution_count": 66,
   "metadata": {},
   "outputs": [
    {
     "name": "stdout",
     "output_type": "stream",
     "text": [
      "Full Formula (Fe4 Cu4 S8)\n",
      "Reduced Formula: FeCuS2\n",
      "abc   :   5.289000   5.289000  10.423000\n",
      "angles:  90.000000  90.000000  90.000000\n",
      "pbc   :       True       True       True\n",
      "Sites (16)\n",
      "  #  SP         a       b      c\n",
      "---  ----  ------  ------  -----\n",
      "  0  Fe    0       0       0.5\n",
      "  1  Fe    0.5     0.5     0\n",
      "  2  Fe    0.5     0       0.25\n",
      "  3  Fe    0       0.5     0.75\n",
      "  4  Cu    0       0       0\n",
      "  5  Cu    0.5     0.5     0.5\n",
      "  6  Cu    0.5     0       0.75\n",
      "  7  Cu    0       0.5     0.25\n",
      "  8  S     0.2574  0.25    0.125\n",
      "  9  S     0.7574  0.75    0.625\n",
      " 10  S     0.25    0.7426  0.875\n",
      " 11  S     0.75    0.2426  0.375\n",
      " 12  S     0.7426  0.75    0.125\n",
      " 13  S     0.2426  0.25    0.625\n",
      " 14  S     0.75    0.2574  0.875\n",
      " 15  S     0.25    0.7574  0.375\n"
     ]
    }
   ],
   "source": [
    "cif = \"CuFeS2.cif\"\n",
    "\n",
    "# load structure file\n",
    "structure = Structure.from_file(cif)\n",
    "print(structure)"
   ]
  },
  {
   "cell_type": "code",
   "execution_count": 65,
   "metadata": {},
   "outputs": [
    {
     "name": "stdout",
     "output_type": "stream",
     "text": [
      "[PeriodicSite: S (-1.2831, -1.3222, 6.5144) [-0.2426, -0.2500, 0.6250], PeriodicSite: S (-1.3222, 1.2831, 3.9086) [-0.2500, 0.2426, 0.3750], PeriodicSite: S (1.2831, 1.3222, 6.5144) [0.2426, 0.2500, 0.6250], PeriodicSite: S (1.3222, -1.2831, 3.9086) [0.2500, -0.2426, 0.3750]]\n",
      "2.256591055759763\n",
      "109.46925863318549\n"
     ]
    }
   ],
   "source": [
    "from pymatgen.core.structure import Structure\n",
    "from pymatgen.analysis.local_env import CrystalNN\n",
    "\n",
    "# Create a CrystalNN object for finding neighbors\n",
    "nn = CrystalNN()\n",
    "\n",
    "# Initialize an empty list to store bond lengths\n",
    "bond_lengths = []\n",
    "\n",
    "# site index 0\n",
    "neighbors = nn.get_nn(structure, 0)\n",
    "print(neighbors)\n",
    "coord1 = structure[0].coords\n",
    "coord2 = neighbors[0].coords\n",
    "\n",
    "atom1 = neighbors[0]\n",
    "atom2 = structure[0] # Central atom\n",
    "atom3 = neighbors[2]\n",
    "v1 = (atom2.coords-atom1.coords)/np.linalg.norm(atom2.coords-atom1.coords)\n",
    "v2 = (atom2.coords-atom3.coords)/np.linalg.norm(atom2.coords-atom3.coords)\n",
    "angle = np.arccos(np.dot(v1, v2))/np.pi*180.0\n",
    "\n",
    "print(np.linalg.norm(coord2 - coord1))\n",
    "print(angle)"
   ]
  },
  {
   "cell_type": "code",
   "execution_count": null,
   "metadata": {},
   "outputs": [],
   "source": []
  }
 ],
 "metadata": {
  "kernelspec": {
   "display_name": "Python 3.10.6 ('Science')",
   "language": "python",
   "name": "python3"
  },
  "language_info": {
   "codemirror_mode": {
    "name": "ipython",
    "version": 3
   },
   "file_extension": ".py",
   "mimetype": "text/x-python",
   "name": "python",
   "nbconvert_exporter": "python",
   "pygments_lexer": "ipython3",
   "version": "3.10.6"
  },
  "vscode": {
   "interpreter": {
    "hash": "a94132495860d142598aaea285fc060a9e1832a45151c3a0d158e377765afe23"
   }
  }
 },
 "nbformat": 4,
 "nbformat_minor": 2
}
