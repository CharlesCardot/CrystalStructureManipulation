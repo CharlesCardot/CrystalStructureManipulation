{
 "cells": [
  {
   "cell_type": "markdown",
   "metadata": {},
   "source": [
    "### Input: CIF, size of super cell, type of impurity, position of impurity (\"center\", \"corner\", or abc coordinates)"
   ]
  },
  {
   "cell_type": "code",
   "execution_count": 11,
   "metadata": {},
   "outputs": [],
   "source": [
    "import numpy as np\n",
    "from pymatgen.core import Structure\n",
    "import utils as ut"
   ]
  },
  {
   "cell_type": "code",
   "execution_count": 39,
   "metadata": {},
   "outputs": [],
   "source": [
    "cif = \"NiO_sym.cif\"\n",
    "supercell = [2,2,2] # 2x2x2\n",
    "impurity_elm = \"H\"\n",
    "impurity_coords = \"center\""
   ]
  },
  {
   "cell_type": "code",
   "execution_count": 40,
   "metadata": {},
   "outputs": [],
   "source": [
    "import utils as ut\n",
    "structure = Structure.from_file(cif)\n",
    "structure.make_supercell(supercell)\n",
    "ut.make_impurity_cif(cif,structure,impurity_elm,impurity_coords)"
   ]
  }
 ],
 "metadata": {
  "kernelspec": {
   "display_name": "Python 3",
   "language": "python",
   "name": "python3"
  },
  "language_info": {
   "codemirror_mode": {
    "name": "ipython",
    "version": 3
   },
   "file_extension": ".py",
   "mimetype": "text/x-python",
   "name": "python",
   "nbconvert_exporter": "python",
   "pygments_lexer": "ipython3",
   "version": "3.7.3"
  },
  "vscode": {
   "interpreter": {
    "hash": "cc5217a38e523f74e887f4c74da7e643eb26b93551dc1b6155239efb33f8fde4"
   }
  }
 },
 "nbformat": 4,
 "nbformat_minor": 2
}
